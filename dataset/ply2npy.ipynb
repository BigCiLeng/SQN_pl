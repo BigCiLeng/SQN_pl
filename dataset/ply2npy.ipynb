{
 "cells": [
  {
   "cell_type": "code",
   "execution_count": 1,
   "metadata": {},
   "outputs": [],
   "source": [
    "import os\n",
    "from plyfile import PlyData, PlyElement\n",
    "import numpy as np\n",
    "import pandas as pd\n",
    "from pathlib import Path\n",
    " \n",
    "dir = Path('/share/dataset/sqn_own/S3DIS/train')\n",
    "paths = list(dir.glob(f'*.ply'))\n",
    "\n",
    "for i, file_path in enumerate(paths):\n",
    "    cloud_name = file_path.stem\n",
    "    with open(file_path, 'rb') as f:\n",
    "        plydata = PlyData.read(f)\n",
    "    data_ply = plydata['vertex'].data\n",
    "    data_pd = pd.DataFrame(data_ply)  # 转换成DataFrame, 因为DataFrame可以解析结构化的数据\n",
    "    data_np = np.zeros(data_pd.shape, dtype=np.float32)  # 初始化储存数据的array\n",
    "    property_names = data_ply[0].dtype.names  # 读取property的名字\n",
    "    for j, name in enumerate(property_names):  # 按property读取数据，这样可以保证读出的数据是同样的数据类型。\n",
    "        data_np[:, j] = data_pd[name]\n",
    "    data_np = data_np.T\n",
    "    np.save(dir / '{:s}.npy'.format(cloud_name), data_np)"
   ]
  }
 ],
 "metadata": {
  "kernelspec": {
   "display_name": "SQN",
   "language": "python",
   "name": "python3"
  },
  "language_info": {
   "codemirror_mode": {
    "name": "ipython",
    "version": 3
   },
   "file_extension": ".py",
   "mimetype": "text/x-python",
   "name": "python",
   "nbconvert_exporter": "python",
   "pygments_lexer": "ipython3",
   "version": "3.9.16"
  },
  "orig_nbformat": 4,
  "vscode": {
   "interpreter": {
    "hash": "fc02daeeecbc997333cd38b88e77dfc09c865ab67a2df32b15b3818f1e960cd6"
   }
  }
 },
 "nbformat": 4,
 "nbformat_minor": 2
}
